{
 "cells": [
  {
   "cell_type": "code",
   "execution_count": 1,
   "metadata": {
    "collapsed": true
   },
   "outputs": [],
   "source": [
    "import os\n",
    "import numpy as np\n",
    "import imageio\n",
    "from skimage import color\n",
    "from skimage import io"
   ]
  },
  {
   "cell_type": "code",
   "execution_count": null,
   "metadata": {},
   "outputs": [
    {
     "name": "stdout",
     "output_type": "stream",
     "text": [
      "img10.png sendo processada\n",
      "img11.jpg sendo processada\n",
      "img1.jpg sendo processada\n",
      "img2.jpg sendo processada\n",
      "img3.jpg sendo processada\n",
      "img7.jpg sendo processada\n",
      "img6.jpg sendo processada\n",
      "img4.jpg sendo processada\n",
      "img5.jpg sendo processada\n",
      "img8.jpg sendo processada\n"
     ]
    }
   ],
   "source": [
    "imagensOriginais = os.listdir(\"./fotosOriginais/\")[:0:-1]\n",
    "for imagem in imagensOriginais:\n",
    "    print(imagem + \" sendo processada\")\n",
    "    img = color.rgb2gray(io.imread(\"./fotosOriginais/\" + imagem))\n",
    "    img = img*255\n",
    "    img = np.asarray(img, np.uint8)\n",
    "    imageio.imwrite(\"./fotosPreProcessadas/\"+imagem[0:-4]+\".png\",img)\n",
    "print(\"Imagens Processadas\")"
   ]
  },
  {
   "cell_type": "code",
   "execution_count": null,
   "metadata": {
    "collapsed": true
   },
   "outputs": [],
   "source": [
    "imaeh"
   ]
  }
 ],
 "metadata": {
  "kernelspec": {
   "display_name": "Python 3",
   "language": "python",
   "name": "python3"
  },
  "language_info": {
   "codemirror_mode": {
    "name": "ipython",
    "version": 3
   },
   "file_extension": ".py",
   "mimetype": "text/x-python",
   "name": "python",
   "nbconvert_exporter": "python",
   "pygments_lexer": "ipython3",
   "version": "3.6.3"
  }
 },
 "nbformat": 4,
 "nbformat_minor": 2
}
